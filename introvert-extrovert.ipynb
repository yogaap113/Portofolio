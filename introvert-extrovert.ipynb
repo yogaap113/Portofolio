{
 "cells": [
  {
   "cell_type": "code",
   "execution_count": 1,
   "id": "e1ee4d8a",
   "metadata": {
    "_cell_guid": "b1076dfc-b9ad-4769-8c92-a6c4dae69d19",
    "_uuid": "8f2839f25d086af736a60e9eeb907d3b93b6e0e5",
    "execution": {
     "iopub.execute_input": "2025-09-27T03:23:42.586731Z",
     "iopub.status.busy": "2025-09-27T03:23:42.586288Z",
     "iopub.status.idle": "2025-09-27T03:23:45.452138Z",
     "shell.execute_reply": "2025-09-27T03:23:45.450911Z"
    },
    "papermill": {
     "duration": 2.874414,
     "end_time": "2025-09-27T03:23:45.454867",
     "exception": false,
     "start_time": "2025-09-27T03:23:42.580453",
     "status": "completed"
    },
    "tags": []
   },
   "outputs": [
    {
     "name": "stdout",
     "output_type": "stream",
     "text": [
      "/kaggle/input/playground-series-s5e7/sample_submission.csv\n",
      "/kaggle/input/playground-series-s5e7/train.csv\n",
      "/kaggle/input/playground-series-s5e7/test.csv\n"
     ]
    }
   ],
   "source": [
    "# This Python 3 environment comes with many helpful analytics libraries installed\n",
    "# It is defined by the kaggle/python Docker image: https://github.com/kaggle/docker-python\n",
    "# For example, here's several helpful packages to load\n",
    "\n",
    "import numpy as np # linear algebra\n",
    "import pandas as pd # data processing, CSV file I/O (e.g. pd.read_csv)\n",
    "\n",
    "# Input data files are available in the read-only \"../input/\" directory\n",
    "# For example, running this (by clicking run or pressing Shift+Enter) will list all files under the input directory\n",
    "\n",
    "import os\n",
    "for dirname, _, filenames in os.walk('/kaggle/input'):\n",
    "    for filename in filenames:\n",
    "        print(os.path.join(dirname, filename))\n",
    "\n",
    "# You can write up to 20GB to the current directory (/kaggle/working/) that gets preserved as output when you create a version using \"Save & Run All\" \n",
    "# You can also write temporary files to /kaggle/temp/, but they won't be saved outside of the current session"
   ]
  },
  {
   "cell_type": "code",
   "execution_count": 2,
   "id": "dc4c4650",
   "metadata": {
    "execution": {
     "iopub.execute_input": "2025-09-27T03:23:45.464733Z",
     "iopub.status.busy": "2025-09-27T03:23:45.464274Z",
     "iopub.status.idle": "2025-09-27T03:23:47.906309Z",
     "shell.execute_reply": "2025-09-27T03:23:47.904639Z"
    },
    "papermill": {
     "duration": 2.449951,
     "end_time": "2025-09-27T03:23:47.908971",
     "exception": false,
     "start_time": "2025-09-27T03:23:45.459020",
     "status": "completed"
    },
    "tags": []
   },
   "outputs": [],
   "source": [
    "from sklearn.model_selection import train_test_split\n"
   ]
  },
  {
   "cell_type": "code",
   "execution_count": 3,
   "id": "152d2ad8",
   "metadata": {
    "execution": {
     "iopub.execute_input": "2025-09-27T03:23:47.924339Z",
     "iopub.status.busy": "2025-09-27T03:23:47.923775Z",
     "iopub.status.idle": "2025-09-27T03:23:47.930692Z",
     "shell.execute_reply": "2025-09-27T03:23:47.929197Z"
    },
    "papermill": {
     "duration": 0.016909,
     "end_time": "2025-09-27T03:23:47.933570",
     "exception": false,
     "start_time": "2025-09-27T03:23:47.916661",
     "status": "completed"
    },
    "tags": []
   },
   "outputs": [],
   "source": [
    "import warnings\n",
    "warnings.filterwarnings('ignore')"
   ]
  },
  {
   "cell_type": "code",
   "execution_count": 4,
   "id": "066fc5a3",
   "metadata": {
    "execution": {
     "iopub.execute_input": "2025-09-27T03:23:47.944793Z",
     "iopub.status.busy": "2025-09-27T03:23:47.944306Z",
     "iopub.status.idle": "2025-09-27T03:23:48.092689Z",
     "shell.execute_reply": "2025-09-27T03:23:48.091459Z"
    },
    "papermill": {
     "duration": 0.157661,
     "end_time": "2025-09-27T03:23:48.096773",
     "exception": false,
     "start_time": "2025-09-27T03:23:47.939112",
     "status": "completed"
    },
    "tags": []
   },
   "outputs": [],
   "source": [
    "filepath = \"../input/playground-series-s5e7/\"\n",
    "train = pd.read_csv(filepath + \"train.csv\", index_col=\"id\")\n",
    "test = pd.read_csv(filepath + \"test.csv\", index_col='id')\n",
    "\n",
    "#train = train.dropna(axis=0, subset=[\"Personality\"], inplace=True)\n",
    "y_train = train[\"Personality\"]\n",
    "X_train = train.drop([\"Personality\"], axis = 1)\n"
   ]
  },
  {
   "cell_type": "code",
   "execution_count": 5,
   "id": "c665e8e5",
   "metadata": {
    "execution": {
     "iopub.execute_input": "2025-09-27T03:23:48.110574Z",
     "iopub.status.busy": "2025-09-27T03:23:48.107764Z",
     "iopub.status.idle": "2025-09-27T03:23:48.154715Z",
     "shell.execute_reply": "2025-09-27T03:23:48.152986Z"
    },
    "papermill": {
     "duration": 0.055815,
     "end_time": "2025-09-27T03:23:48.157377",
     "exception": false,
     "start_time": "2025-09-27T03:23:48.101562",
     "status": "completed"
    },
    "tags": []
   },
   "outputs": [
    {
     "data": {
      "text/html": [
       "<div>\n",
       "<style scoped>\n",
       "    .dataframe tbody tr th:only-of-type {\n",
       "        vertical-align: middle;\n",
       "    }\n",
       "\n",
       "    .dataframe tbody tr th {\n",
       "        vertical-align: top;\n",
       "    }\n",
       "\n",
       "    .dataframe thead th {\n",
       "        text-align: right;\n",
       "    }\n",
       "</style>\n",
       "<table border=\"1\" class=\"dataframe\">\n",
       "  <thead>\n",
       "    <tr style=\"text-align: right;\">\n",
       "      <th></th>\n",
       "      <th>Time_spent_Alone</th>\n",
       "      <th>Stage_fear</th>\n",
       "      <th>Social_event_attendance</th>\n",
       "      <th>Going_outside</th>\n",
       "      <th>Drained_after_socializing</th>\n",
       "      <th>Friends_circle_size</th>\n",
       "      <th>Post_frequency</th>\n",
       "      <th>Personality</th>\n",
       "    </tr>\n",
       "    <tr>\n",
       "      <th>id</th>\n",
       "      <th></th>\n",
       "      <th></th>\n",
       "      <th></th>\n",
       "      <th></th>\n",
       "      <th></th>\n",
       "      <th></th>\n",
       "      <th></th>\n",
       "      <th></th>\n",
       "    </tr>\n",
       "  </thead>\n",
       "  <tbody>\n",
       "    <tr>\n",
       "      <th>0</th>\n",
       "      <td>0.0</td>\n",
       "      <td>No</td>\n",
       "      <td>6.0</td>\n",
       "      <td>4.0</td>\n",
       "      <td>No</td>\n",
       "      <td>15.0</td>\n",
       "      <td>5.0</td>\n",
       "      <td>Extrovert</td>\n",
       "    </tr>\n",
       "    <tr>\n",
       "      <th>1</th>\n",
       "      <td>1.0</td>\n",
       "      <td>No</td>\n",
       "      <td>7.0</td>\n",
       "      <td>3.0</td>\n",
       "      <td>No</td>\n",
       "      <td>10.0</td>\n",
       "      <td>8.0</td>\n",
       "      <td>Extrovert</td>\n",
       "    </tr>\n",
       "    <tr>\n",
       "      <th>2</th>\n",
       "      <td>6.0</td>\n",
       "      <td>Yes</td>\n",
       "      <td>1.0</td>\n",
       "      <td>0.0</td>\n",
       "      <td>NaN</td>\n",
       "      <td>3.0</td>\n",
       "      <td>0.0</td>\n",
       "      <td>Introvert</td>\n",
       "    </tr>\n",
       "    <tr>\n",
       "      <th>3</th>\n",
       "      <td>3.0</td>\n",
       "      <td>No</td>\n",
       "      <td>7.0</td>\n",
       "      <td>3.0</td>\n",
       "      <td>No</td>\n",
       "      <td>11.0</td>\n",
       "      <td>5.0</td>\n",
       "      <td>Extrovert</td>\n",
       "    </tr>\n",
       "    <tr>\n",
       "      <th>4</th>\n",
       "      <td>1.0</td>\n",
       "      <td>No</td>\n",
       "      <td>4.0</td>\n",
       "      <td>4.0</td>\n",
       "      <td>No</td>\n",
       "      <td>13.0</td>\n",
       "      <td>NaN</td>\n",
       "      <td>Extrovert</td>\n",
       "    </tr>\n",
       "  </tbody>\n",
       "</table>\n",
       "</div>"
      ],
      "text/plain": [
       "    Time_spent_Alone Stage_fear  Social_event_attendance  Going_outside  \\\n",
       "id                                                                        \n",
       "0                0.0         No                      6.0            4.0   \n",
       "1                1.0         No                      7.0            3.0   \n",
       "2                6.0        Yes                      1.0            0.0   \n",
       "3                3.0         No                      7.0            3.0   \n",
       "4                1.0         No                      4.0            4.0   \n",
       "\n",
       "   Drained_after_socializing  Friends_circle_size  Post_frequency Personality  \n",
       "id                                                                             \n",
       "0                         No                 15.0             5.0   Extrovert  \n",
       "1                         No                 10.0             8.0   Extrovert  \n",
       "2                        NaN                  3.0             0.0   Introvert  \n",
       "3                         No                 11.0             5.0   Extrovert  \n",
       "4                         No                 13.0             NaN   Extrovert  "
      ]
     },
     "execution_count": 5,
     "metadata": {},
     "output_type": "execute_result"
    }
   ],
   "source": [
    "train.head(5)"
   ]
  },
  {
   "cell_type": "code",
   "execution_count": 6,
   "id": "66383684",
   "metadata": {
    "execution": {
     "iopub.execute_input": "2025-09-27T03:23:48.170916Z",
     "iopub.status.busy": "2025-09-27T03:23:48.170491Z",
     "iopub.status.idle": "2025-09-27T03:23:48.181191Z",
     "shell.execute_reply": "2025-09-27T03:23:48.179745Z"
    },
    "papermill": {
     "duration": 0.020479,
     "end_time": "2025-09-27T03:23:48.183249",
     "exception": false,
     "start_time": "2025-09-27T03:23:48.162770",
     "status": "completed"
    },
    "tags": []
   },
   "outputs": [
    {
     "data": {
      "text/plain": [
       "Time_spent_Alone             float64\n",
       "Stage_fear                    object\n",
       "Social_event_attendance      float64\n",
       "Going_outside                float64\n",
       "Drained_after_socializing     object\n",
       "Friends_circle_size          float64\n",
       "Post_frequency               float64\n",
       "Personality                   object\n",
       "dtype: object"
      ]
     },
     "execution_count": 6,
     "metadata": {},
     "output_type": "execute_result"
    }
   ],
   "source": [
    "train.dtypes"
   ]
  },
  {
   "cell_type": "code",
   "execution_count": 7,
   "id": "51be66c9",
   "metadata": {
    "execution": {
     "iopub.execute_input": "2025-09-27T03:23:48.196622Z",
     "iopub.status.busy": "2025-09-27T03:23:48.194431Z",
     "iopub.status.idle": "2025-09-27T03:23:48.212099Z",
     "shell.execute_reply": "2025-09-27T03:23:48.211017Z"
    },
    "papermill": {
     "duration": 0.027008,
     "end_time": "2025-09-27T03:23:48.214906",
     "exception": false,
     "start_time": "2025-09-27T03:23:48.187898",
     "status": "completed"
    },
    "tags": []
   },
   "outputs": [],
   "source": [
    "categorical_cols = [cname for cname in X_train.columns if X_train[cname].nunique() < 10 and \n",
    "                        X_train[cname].dtype == \"object\"]\n",
    "\n",
    "# Select numerical columns\n",
    "numerical_cols = [cname for cname in X_train.columns if X_train[cname].dtype in ['int64', 'float64']]\n",
    "\n",
    "# Keep selected columns only\n",
    "my_cols = categorical_cols + numerical_cols\n",
    "X_train = X_train[my_cols]\n",
    "test = test[my_cols]"
   ]
  },
  {
   "cell_type": "markdown",
   "id": "c3fb4daf",
   "metadata": {
    "papermill": {
     "duration": 0.005634,
     "end_time": "2025-09-27T03:23:48.224293",
     "exception": false,
     "start_time": "2025-09-27T03:23:48.218659",
     "status": "completed"
    },
    "tags": []
   },
   "source": [
    "### Define Preprocessing Steps"
   ]
  },
  {
   "cell_type": "code",
   "execution_count": 8,
   "id": "9a9a635d",
   "metadata": {
    "execution": {
     "iopub.execute_input": "2025-09-27T03:23:48.236560Z",
     "iopub.status.busy": "2025-09-27T03:23:48.236217Z",
     "iopub.status.idle": "2025-09-27T03:23:48.605285Z",
     "shell.execute_reply": "2025-09-27T03:23:48.604325Z"
    },
    "papermill": {
     "duration": 0.376337,
     "end_time": "2025-09-27T03:23:48.607361",
     "exception": false,
     "start_time": "2025-09-27T03:23:48.231024",
     "status": "completed"
    },
    "tags": []
   },
   "outputs": [],
   "source": [
    "from sklearn.compose import ColumnTransformer\n",
    "from sklearn.pipeline import Pipeline\n",
    "from sklearn.impute import SimpleImputer\n",
    "from sklearn.preprocessing import OneHotEncoder\n",
    "\n",
    "# Preprocessing for numerical data\n",
    "numerical_transformer = SimpleImputer(strategy='constant')\n",
    "\n",
    "# Preprocessing for categorical data\n",
    "categorical_transformer = Pipeline(steps=[\n",
    "    ('imputer', SimpleImputer(strategy='constant')),\n",
    "    ('onehot', OneHotEncoder(handle_unknown='ignore'))\n",
    "])\n",
    "\n",
    "# Bundle preprocessing for numerical and categorical data\n",
    "preprocessor = ColumnTransformer(\n",
    "    transformers=[\n",
    "        ('num', numerical_transformer, numerical_cols),\n",
    "        ('cat', categorical_transformer, categorical_cols)\n",
    "    ])"
   ]
  },
  {
   "cell_type": "markdown",
   "id": "e94092fb",
   "metadata": {
    "papermill": {
     "duration": 0.003375,
     "end_time": "2025-09-27T03:23:48.614561",
     "exception": false,
     "start_time": "2025-09-27T03:23:48.611186",
     "status": "completed"
    },
    "tags": []
   },
   "source": [
    "### Define The Model"
   ]
  },
  {
   "cell_type": "code",
   "execution_count": 9,
   "id": "96e18aff",
   "metadata": {
    "execution": {
     "iopub.execute_input": "2025-09-27T03:23:48.622859Z",
     "iopub.status.busy": "2025-09-27T03:23:48.622509Z",
     "iopub.status.idle": "2025-09-27T03:23:48.971505Z",
     "shell.execute_reply": "2025-09-27T03:23:48.970256Z"
    },
    "papermill": {
     "duration": 0.355434,
     "end_time": "2025-09-27T03:23:48.973456",
     "exception": false,
     "start_time": "2025-09-27T03:23:48.618022",
     "status": "completed"
    },
    "tags": []
   },
   "outputs": [],
   "source": [
    "from sklearn.ensemble import RandomForestClassifier\n",
    "model = RandomForestClassifier(n_estimators=100, random_state=0)"
   ]
  },
  {
   "cell_type": "markdown",
   "id": "96386d7f",
   "metadata": {
    "papermill": {
     "duration": 0.003623,
     "end_time": "2025-09-27T03:23:48.981751",
     "exception": false,
     "start_time": "2025-09-27T03:23:48.978128",
     "status": "completed"
    },
    "tags": []
   },
   "source": [
    "### Create and Evaluate the Pipeline"
   ]
  },
  {
   "cell_type": "code",
   "execution_count": 10,
   "id": "00620874",
   "metadata": {
    "execution": {
     "iopub.execute_input": "2025-09-27T03:23:48.990641Z",
     "iopub.status.busy": "2025-09-27T03:23:48.990290Z",
     "iopub.status.idle": "2025-09-27T03:23:50.492161Z",
     "shell.execute_reply": "2025-09-27T03:23:50.490914Z"
    },
    "papermill": {
     "duration": 1.508879,
     "end_time": "2025-09-27T03:23:50.494094",
     "exception": false,
     "start_time": "2025-09-27T03:23:48.985215",
     "status": "completed"
    },
    "tags": []
   },
   "outputs": [],
   "source": [
    "from sklearn.metrics import mean_absolute_error\n",
    "\n",
    "# Bundle preprocessing and modeling code in a pipeline\n",
    "my_pipeline = Pipeline(steps=[('preprocessor', preprocessor),\n",
    "                              ('model', model)\n",
    "                             ])\n",
    "\n",
    "# Preprocessing of training data, fit model \n",
    "my_pipeline.fit(X_train, y_train)\n",
    "\n",
    "# Preprocessing of validation data, get predictions\n",
    "preds = my_pipeline.predict(test)\n",
    "\n",
    "# Evaluate the model\n",
    "#score = mean_absolute_error(y_test, preds)\n",
    "#print('MAE:', score)"
   ]
  },
  {
   "cell_type": "code",
   "execution_count": 11,
   "id": "23166297",
   "metadata": {
    "execution": {
     "iopub.execute_input": "2025-09-27T03:23:50.502773Z",
     "iopub.status.busy": "2025-09-27T03:23:50.502428Z",
     "iopub.status.idle": "2025-09-27T03:23:50.509719Z",
     "shell.execute_reply": "2025-09-27T03:23:50.508534Z"
    },
    "papermill": {
     "duration": 0.013688,
     "end_time": "2025-09-27T03:23:50.511572",
     "exception": false,
     "start_time": "2025-09-27T03:23:50.497884",
     "status": "completed"
    },
    "tags": []
   },
   "outputs": [
    {
     "data": {
      "text/plain": [
       "Index([18524, 18525, 18526, 18527, 18528, 18529, 18530, 18531, 18532, 18533,\n",
       "       ...\n",
       "       24689, 24690, 24691, 24692, 24693, 24694, 24695, 24696, 24697, 24698],\n",
       "      dtype='int64', name='id', length=6175)"
      ]
     },
     "execution_count": 11,
     "metadata": {},
     "output_type": "execute_result"
    }
   ],
   "source": [
    "test.index"
   ]
  },
  {
   "cell_type": "code",
   "execution_count": 12,
   "id": "367178e7",
   "metadata": {
    "execution": {
     "iopub.execute_input": "2025-09-27T03:23:50.520570Z",
     "iopub.status.busy": "2025-09-27T03:23:50.520204Z",
     "iopub.status.idle": "2025-09-27T03:23:50.540488Z",
     "shell.execute_reply": "2025-09-27T03:23:50.539072Z"
    },
    "papermill": {
     "duration": 0.027053,
     "end_time": "2025-09-27T03:23:50.542389",
     "exception": false,
     "start_time": "2025-09-27T03:23:50.515336",
     "status": "completed"
    },
    "tags": []
   },
   "outputs": [],
   "source": [
    "output = pd.DataFrame({\n",
    "    \"id\": test.index,\n",
    "    \"Personality\": preds\n",
    "})\n",
    "output.to_csv('submission.csv', index=False)"
   ]
  }
 ],
 "metadata": {
  "kaggle": {
   "accelerator": "none",
   "dataSources": [
    {
     "databundleVersionId": 12738969,
     "sourceId": 91718,
     "sourceType": "competition"
    }
   ],
   "dockerImageVersionId": 31089,
   "isGpuEnabled": false,
   "isInternetEnabled": true,
   "language": "python",
   "sourceType": "notebook"
  },
  "kernelspec": {
   "display_name": "Python 3",
   "language": "python",
   "name": "python3"
  },
  "language_info": {
   "codemirror_mode": {
    "name": "ipython",
    "version": 3
   },
   "file_extension": ".py",
   "mimetype": "text/x-python",
   "name": "python",
   "nbconvert_exporter": "python",
   "pygments_lexer": "ipython3",
   "version": "3.11.13"
  },
  "papermill": {
   "default_parameters": {},
   "duration": 15.855515,
   "end_time": "2025-09-27T03:23:51.369472",
   "environment_variables": {},
   "exception": null,
   "input_path": "__notebook__.ipynb",
   "output_path": "__notebook__.ipynb",
   "parameters": {},
   "start_time": "2025-09-27T03:23:35.513957",
   "version": "2.6.0"
  }
 },
 "nbformat": 4,
 "nbformat_minor": 5
}
